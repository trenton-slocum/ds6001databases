{
 "cells": [
  {
   "cell_type": "markdown",
   "id": "6b7ae140-23d0-439a-a2fa-aaa3c0696f73",
   "metadata": {},
   "source": [
    "# Live Coding Exercise M06\n",
    "Trenton Slocum\\\n",
    "nuf8ms"
   ]
  },
  {
   "cell_type": "code",
   "execution_count": null,
   "id": "6f7ac596-f4ed-4cfd-b31c-d9d9243c5e91",
   "metadata": {},
   "outputs": [],
   "source": []
  }
 ],
 "metadata": {
  "kernelspec": {
   "display_name": "Python 3 (ipykernel)",
   "language": "python",
   "name": "python3"
  },
  "language_info": {
   "codemirror_mode": {
    "name": "ipython",
    "version": 3
   },
   "file_extension": ".py",
   "mimetype": "text/x-python",
   "name": "python",
   "nbconvert_exporter": "python",
   "pygments_lexer": "ipython3",
   "version": "3.12.3"
  }
 },
 "nbformat": 4,
 "nbformat_minor": 5
}
